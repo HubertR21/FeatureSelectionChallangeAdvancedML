{
 "cells": [
  {
   "cell_type": "markdown",
   "source": [
    "# Advanced Machine Learning\n",
    "\n",
    "## Project 2\n",
    "\n",
    "## Feature Selection part"
   ],
   "metadata": {
    "collapsed": false
   }
  },
  {
   "cell_type": "code",
   "execution_count": null,
   "outputs": [],
   "source": [
    "import pandas as pd\n",
    "import numpy as np"
   ],
   "metadata": {
    "collapsed": false
   }
  },
  {
   "cell_type": "markdown",
   "source": [
    "### Reading files and preprocessing"
   ],
   "metadata": {
    "collapsed": false
   }
  },
  {
   "cell_type": "code",
   "execution_count": null,
   "outputs": [],
   "source": [
    "artificial_data = pd.read_csv('./data/artificial_train.data', delim_whitespace=True, header=None)\n",
    "artificial_label = pd.read_csv('./data/artificial_train.labels', delim_whitespace=True, header=None).values.ravel()"
   ],
   "metadata": {
    "collapsed": false
   }
  },
  {
   "cell_type": "code",
   "execution_count": null,
   "outputs": [],
   "source": [
    "spam = pd.read_csv('./data/sms_train.csv')\n",
    "spam_data = spam['message']\n",
    "spam_label = spam['label'].values.ravel()"
   ],
   "metadata": {
    "collapsed": false
   }
  },
  {
   "cell_type": "markdown",
   "source": [
    "Remove punctuation and lowercase"
   ],
   "metadata": {
    "collapsed": false
   }
  },
  {
   "cell_type": "code",
   "execution_count": null,
   "outputs": [],
   "source": [
    "import string\n",
    "\n",
    "spam_data = spam_data.str.translate(str.maketrans('', '', string.punctuation)).str.lower()"
   ],
   "metadata": {
    "collapsed": false
   }
  },
  {
   "cell_type": "markdown",
   "source": [
    "### Train-test split"
   ],
   "metadata": {
    "collapsed": false
   }
  },
  {
   "cell_type": "code",
   "execution_count": null,
   "outputs": [],
   "source": [
    "from sklearn.model_selection import train_test_split"
   ],
   "metadata": {
    "collapsed": false
   }
  },
  {
   "cell_type": "code",
   "execution_count": null,
   "outputs": [],
   "source": [
    "artificial_data, artificial_data_test, artificial_label, artificial_label_test = train_test_split(\n",
    "    artificial_data, artificial_label, test_size=0.2, random_state=0, stratify=artificial_label\n",
    ")"
   ],
   "metadata": {
    "collapsed": false
   }
  },
  {
   "cell_type": "code",
   "execution_count": null,
   "outputs": [],
   "source": [
    "spam_data, spam_data_test, spam_label, spam_label_test = train_test_split(\n",
    "    spam_data, spam_label, test_size=0.2, random_state=0, stratify=spam_label\n",
    ")"
   ],
   "metadata": {
    "collapsed": false
   }
  },
  {
   "cell_type": "code",
   "execution_count": null,
   "outputs": [],
   "source": [],
   "metadata": {
    "collapsed": false
   }
  },
  {
   "cell_type": "markdown",
   "source": [
    "### Dataset preprocessing"
   ],
   "metadata": {
    "collapsed": false
   }
  },
  {
   "cell_type": "markdown",
   "source": [
    "I will create three version of this dataset - with all words, with words more frequent than 0.1% and more frequent than 1%."
   ],
   "metadata": {
    "collapsed": false
   }
  },
  {
   "cell_type": "code",
   "execution_count": null,
   "outputs": [],
   "source": [
    "from sklearn.feature_extraction.text import CountVectorizer"
   ],
   "metadata": {
    "collapsed": false
   }
  },
  {
   "cell_type": "code",
   "execution_count": null,
   "outputs": [],
   "source": [
    "vectorisers = {\n",
    "    'all': CountVectorizer().fit(spam_data),\n",
    "    '0.01': CountVectorizer(min_df=0.01).fit(spam_data),\n",
    "    '0.001': CountVectorizer(min_df=0.001).fit(spam_data)\n",
    "}"
   ],
   "metadata": {
    "collapsed": false
   }
  },
  {
   "cell_type": "code",
   "execution_count": null,
   "outputs": [],
   "source": [
    "spam_train_data = {\n",
    "    key: pd.DataFrame.sparse.from_spmatrix(vectoriser.transform(spam_data))\n",
    "    for key, vectoriser in vectorisers.items()\n",
    "}"
   ],
   "metadata": {
    "collapsed": false
   }
  },
  {
   "cell_type": "code",
   "execution_count": null,
   "outputs": [],
   "source": [
    "spam_test_data = {\n",
    "    key: pd.DataFrame.sparse.from_spmatrix(vectoriser.transform(spam_data_test))\n",
    "    for key, vectoriser in vectorisers.items()\n",
    "}"
   ],
   "metadata": {
    "collapsed": false
   }
  },
  {
   "cell_type": "code",
   "execution_count": null,
   "outputs": [],
   "source": [],
   "metadata": {
    "collapsed": false
   }
  },
  {
   "cell_type": "markdown",
   "source": [
    "### Testing selected methods"
   ],
   "metadata": {
    "collapsed": false
   }
  },
  {
   "cell_type": "code",
   "execution_count": null,
   "outputs": [],
   "source": [
    "def save_preprocessed(X, y, columns, dataset_name, method_name, type, folder_name='preprocessed_raw'):\n",
    "    X1 = X[columns].copy()\n",
    "    X1['TARGET'] = y\n",
    "    X1.to_csv(f'./{folder_name}/{dataset_name}_{type}_{method_name}_{str(len(columns))}.csv')"
   ],
   "metadata": {
    "collapsed": false
   }
  },
  {
   "cell_type": "code",
   "execution_count": null,
   "outputs": [],
   "source": [],
   "metadata": {
    "collapsed": false
   }
  },
  {
   "cell_type": "markdown",
   "source": [
    "### Preparing folders"
   ],
   "metadata": {
    "collapsed": false
   }
  },
  {
   "cell_type": "code",
   "execution_count": null,
   "outputs": [],
   "source": [
    "import os"
   ],
   "metadata": {
    "collapsed": false
   }
  },
  {
   "cell_type": "code",
   "execution_count": null,
   "outputs": [],
   "source": [
    "os.makedirs('preprocessed_raw')\n",
    "os.makedirs('preprocessed_preprocessed_freq_01_MI')\n",
    "os.makedirs('preprocessed_freq_001')"
   ],
   "metadata": {
    "collapsed": false
   }
  },
  {
   "cell_type": "code",
   "execution_count": null,
   "outputs": [],
   "source": [],
   "metadata": {
    "collapsed": false
   }
  },
  {
   "cell_type": "markdown",
   "source": [
    "#### Feature Importance based on Random Forest"
   ],
   "metadata": {
    "collapsed": false
   }
  },
  {
   "cell_type": "code",
   "execution_count": null,
   "outputs": [],
   "source": [
    "np.random.seed(0)"
   ],
   "metadata": {
    "collapsed": false
   }
  },
  {
   "cell_type": "code",
   "execution_count": null,
   "outputs": [],
   "source": [
    "from sklearn.ensemble import RandomForestClassifier"
   ],
   "metadata": {
    "collapsed": false
   }
  },
  {
   "cell_type": "code",
   "execution_count": null,
   "outputs": [],
   "source": [
    "def select_features_from_feature_importance(m, n=5):\n",
    "    # return indexes of columns with highest FI\n",
    "    importances = m.feature_importances_\n",
    "    return np.argpartition(importances, -n)[-n:]"
   ],
   "metadata": {
    "collapsed": false
   }
  },
  {
   "cell_type": "markdown",
   "source": [
    "##### Artificial data"
   ],
   "metadata": {
    "collapsed": false
   }
  },
  {
   "cell_type": "code",
   "execution_count": null,
   "outputs": [],
   "source": [
    "rf1 = RandomForestClassifier().fit(artificial_data, artificial_label)"
   ],
   "metadata": {
    "collapsed": false
   }
  },
  {
   "cell_type": "markdown",
   "source": [
    "Saving preprocessed dataset with 5 and 10 best features"
   ],
   "metadata": {
    "collapsed": false
   }
  },
  {
   "cell_type": "code",
   "execution_count": null,
   "outputs": [],
   "source": [
    "save_preprocessed(artificial_data, artificial_label, select_features_from_feature_importance(rf1, 5),\n",
    "                  'artificial', 'feature_importance', 'train')\n",
    "save_preprocessed(artificial_data_test, artificial_label_test, select_features_from_feature_importance(rf1, 5),\n",
    "                  'artificial', 'feature_importance', 'test')"
   ],
   "metadata": {
    "collapsed": false
   }
  },
  {
   "cell_type": "code",
   "execution_count": null,
   "outputs": [],
   "source": [
    "save_preprocessed(artificial_data, artificial_label, select_features_from_feature_importance(rf1, 10),\n",
    "                  'artificial', 'feature_importance', 'train')\n",
    "save_preprocessed(artificial_data_test, artificial_label_test, select_features_from_feature_importance(rf1, 10),\n",
    "                  'artificial', 'feature_importance', 'test')"
   ],
   "metadata": {
    "collapsed": false
   }
  },
  {
   "cell_type": "markdown",
   "source": [
    "##### Spam data"
   ],
   "metadata": {
    "collapsed": false
   }
  },
  {
   "cell_type": "markdown",
   "source": [
    "Saving preprocessed dataset with 50, 100 and 150 best features"
   ],
   "metadata": {
    "collapsed": false
   }
  },
  {
   "cell_type": "code",
   "execution_count": null,
   "outputs": [],
   "source": [
    "folder_names = {\n",
    "    'all': 'preprocessed_raw',\n",
    "    '0.01': 'preprocessed_preprocessed_freq_01_MI',\n",
    "    '0.001': 'preprocessed_freq_001'\n",
    "}"
   ],
   "metadata": {
    "collapsed": false
   }
  },
  {
   "cell_type": "code",
   "execution_count": null,
   "outputs": [],
   "source": [
    "for key, df in spam_train_data.items():\n",
    "    rf2 = RandomForestClassifier().fit(df, spam_label)\n",
    "\n",
    "    save_preprocessed(df, spam_label, select_features_from_feature_importance(rf2, 50),\n",
    "                      'spam', 'feature_importance', 'train', folder_names[key])\n",
    "    save_preprocessed(spam_test_data[key], spam_label_test, select_features_from_feature_importance(rf2, 50),\n",
    "                      'spam', 'feature_importance', 'test', folder_names[key])\n",
    "\n",
    "    save_preprocessed(df, spam_label, select_features_from_feature_importance(rf2, 100),\n",
    "                      'spam', 'feature_importance', 'train', folder_names[key])\n",
    "    save_preprocessed(spam_test_data[key], spam_label_test, select_features_from_feature_importance(rf2, 100),\n",
    "                      'spam', 'feature_importance', 'test', folder_names[key])\n",
    "\n",
    "    save_preprocessed(df, spam_label, select_features_from_feature_importance(rf2, 150),\n",
    "                      'spam', 'feature_importance', 'train', folder_names[key])\n",
    "    save_preprocessed(spam_test_data[key], spam_label_test, select_features_from_feature_importance(rf2, 150),\n",
    "                      'spam', 'feature_importance', 'test', folder_names[key])"
   ],
   "metadata": {
    "collapsed": false
   }
  },
  {
   "cell_type": "code",
   "execution_count": null,
   "outputs": [],
   "source": [],
   "metadata": {
    "collapsed": false
   }
  },
  {
   "cell_type": "code",
   "execution_count": null,
   "outputs": [],
   "source": [],
   "metadata": {
    "collapsed": false
   }
  },
  {
   "cell_type": "markdown",
   "source": [
    "#### Boruta Algorithm"
   ],
   "metadata": {
    "collapsed": false
   }
  },
  {
   "cell_type": "code",
   "execution_count": null,
   "outputs": [],
   "source": [
    "np.random.seed(0)"
   ],
   "metadata": {
    "collapsed": false
   }
  },
  {
   "cell_type": "code",
   "execution_count": null,
   "outputs": [],
   "source": [
    "from boruta import BorutaPy"
   ],
   "metadata": {
    "collapsed": false
   }
  },
  {
   "cell_type": "markdown",
   "source": [
    "##### Artificial data"
   ],
   "metadata": {
    "collapsed": false
   }
  },
  {
   "cell_type": "code",
   "execution_count": null,
   "outputs": [],
   "source": [
    "boruta1 = BorutaPy(RandomForestClassifier(), n_estimators='auto', verbose=0).fit(np.asarray(artificial_data), artificial_label)"
   ],
   "metadata": {
    "collapsed": false
   }
  },
  {
   "cell_type": "code",
   "execution_count": null,
   "outputs": [],
   "source": [
    "save_preprocessed(artificial_data, artificial_label, artificial_data.columns[boruta1.support_],\n",
    "                  'artificial', 'boruta', 'train')\n",
    "save_preprocessed(artificial_data_test, artificial_label_test, artificial_data.columns[boruta1.support_],\n",
    "                  'artificial', 'boruta', 'test')"
   ],
   "metadata": {
    "collapsed": false
   }
  },
  {
   "cell_type": "markdown",
   "source": [
    "##### Spam data"
   ],
   "metadata": {
    "collapsed": false
   }
  },
  {
   "cell_type": "code",
   "execution_count": null,
   "outputs": [],
   "source": [
    "for key, df in spam_train_data.items():\n",
    "    boruta2 = BorutaPy(RandomForestClassifier(), n_estimators='auto', verbose=0).fit(np.asarray(df), spam_label)\n",
    "\n",
    "    save_preprocessed(df, spam_label, spam_data.columns[boruta2.support_],\n",
    "                       'spam', 'boruta', 'train', folder_names[key])\n",
    "    save_preprocessed(spam_test_data[key], spam_label_test, spam_data.columns[boruta2.support_],\n",
    "                      'spam', 'boruta', 'test', folder_names[key])"
   ],
   "metadata": {
    "collapsed": false
   }
  },
  {
   "cell_type": "code",
   "execution_count": null,
   "outputs": [],
   "source": [],
   "metadata": {
    "collapsed": false
   }
  },
  {
   "cell_type": "markdown",
   "source": [
    "#### MRMR (minimum Redundancy - Maximum Relevance)"
   ],
   "metadata": {
    "collapsed": false
   }
  },
  {
   "cell_type": "code",
   "execution_count": null,
   "outputs": [],
   "source": [
    "from mrmr import mrmr_classif"
   ],
   "metadata": {
    "collapsed": false
   }
  },
  {
   "cell_type": "code",
   "execution_count": null,
   "outputs": [],
   "source": [
    "np.random.seed(0)"
   ],
   "metadata": {
    "collapsed": false
   }
  },
  {
   "cell_type": "markdown",
   "source": [
    "##### Artificial data\n",
    "\n",
    "The algorithm be used to select 5 and 10 best features"
   ],
   "metadata": {
    "collapsed": false
   }
  },
  {
   "cell_type": "code",
   "execution_count": null,
   "outputs": [],
   "source": [
    "mrmr1 = mrmr_classif(artificial_data, artificial_label, K=5)"
   ],
   "metadata": {
    "collapsed": false
   }
  },
  {
   "cell_type": "code",
   "execution_count": null,
   "outputs": [],
   "source": [
    "save_preprocessed(artificial_data, artificial_label, mrmr1,\n",
    "                  'artificial', 'mrmr', 'train')\n",
    "save_preprocessed(artificial_data_test, artificial_label_test, mrmr1,\n",
    "                  'artificial', 'mrmr', 'test')"
   ],
   "metadata": {
    "collapsed": false
   }
  },
  {
   "cell_type": "code",
   "execution_count": null,
   "outputs": [],
   "source": [
    "mrmr2 = mrmr_classif(artificial_data, artificial_label, K=10)"
   ],
   "metadata": {
    "collapsed": false
   }
  },
  {
   "cell_type": "code",
   "execution_count": null,
   "outputs": [],
   "source": [
    "save_preprocessed(artificial_data, artificial_label, mrmr2,\n",
    "                  'artificial', 'mrmr', 'train')\n",
    "save_preprocessed(artificial_data_test, artificial_label_test, mrmr2,\n",
    "                  'artificial', 'mrmr', 'test')"
   ],
   "metadata": {
    "collapsed": false
   }
  },
  {
   "cell_type": "code",
   "execution_count": null,
   "outputs": [],
   "source": [],
   "metadata": {
    "collapsed": false
   }
  },
  {
   "cell_type": "markdown",
   "source": [
    "##### Spam data\n",
    "\n",
    "The algorithm will be used to select 50, 100 and 150 features"
   ],
   "metadata": {
    "collapsed": false
   }
  },
  {
   "cell_type": "code",
   "execution_count": null,
   "outputs": [],
   "source": [
    "for key, df in spam_train_data.items():\n",
    "    mrmr3 = mrmr_classif(df.sparse.to_dense(), spam_label, K=50)\n",
    "\n",
    "    save_preprocessed(df, spam_label, mrmr3,\n",
    "                      'spam', 'mrmr', 'train', folder_names[key])\n",
    "    save_preprocessed(spam_test_data[key], spam_label_test, mrmr3,\n",
    "                      'spam', 'mrmr', 'test', folder_names[key])\n",
    "\n",
    "    mrmr4 = mrmr_classif(df.sparse.to_dense(), spam_label, K=100)\n",
    "\n",
    "    save_preprocessed(df, spam_label, mrmr4,\n",
    "                      'spam', 'mrmr', 'train', folder_names[key])\n",
    "    save_preprocessed(spam_test_data[key], spam_label_test, mrmr4,\n",
    "                      'spam', 'mrmr', 'test', folder_names[key])\n",
    "\n",
    "    mrmr5 = mrmr_classif(df.sparse.to_dense(), spam_label, K=150)\n",
    "\n",
    "    save_preprocessed(df, spam_label, mrmr5,\n",
    "                      'spam', 'mrmr', 'train', folder_names[key])\n",
    "    save_preprocessed(spam_test_data[key], spam_label_test, mrmr5,\n",
    "                      'spam', 'mrmr', 'test', folder_names[key])"
   ],
   "metadata": {
    "collapsed": false
   }
  },
  {
   "cell_type": "code",
   "execution_count": null,
   "outputs": [],
   "source": [],
   "metadata": {
    "collapsed": false
   }
  },
  {
   "cell_type": "markdown",
   "source": [
    "#### Test chi^2\n",
    "\n",
    "A selected number with the highest value of the statistic will be used"
   ],
   "metadata": {
    "collapsed": false
   }
  },
  {
   "cell_type": "code",
   "execution_count": null,
   "outputs": [],
   "source": [
    "np.random.seed(0)"
   ],
   "metadata": {
    "collapsed": false
   }
  },
  {
   "cell_type": "code",
   "execution_count": null,
   "outputs": [],
   "source": [
    "from sklearn.feature_selection import chi2"
   ],
   "metadata": {
    "collapsed": false
   }
  },
  {
   "cell_type": "code",
   "execution_count": null,
   "outputs": [],
   "source": [
    "def indices_of_n_max(tab, n):\n",
    "    return np.argpartition(tab, -n)[-n:]"
   ],
   "metadata": {
    "collapsed": false
   }
  },
  {
   "cell_type": "markdown",
   "source": [
    "##### Artificial data\n",
    "\n",
    "The algorithm be used to select 5 and 10 best features"
   ],
   "metadata": {
    "collapsed": false
   }
  },
  {
   "cell_type": "code",
   "execution_count": null,
   "outputs": [],
   "source": [
    "statistic_values1, _ = chi2(artificial_data, artificial_label)"
   ],
   "metadata": {
    "collapsed": false
   }
  },
  {
   "cell_type": "code",
   "execution_count": null,
   "outputs": [],
   "source": [
    "save_preprocessed(artificial_data, artificial_label, indices_of_n_max(statistic_values1, 5),\n",
    "                  'artificial', 'chi2', 'train')\n",
    "save_preprocessed(artificial_data_test, artificial_label_test, indices_of_n_max(statistic_values1, 5),\n",
    "                  'artificial', 'chi2', 'test')"
   ],
   "metadata": {
    "collapsed": false
   }
  },
  {
   "cell_type": "code",
   "execution_count": null,
   "outputs": [],
   "source": [
    "save_preprocessed(artificial_data, artificial_label, indices_of_n_max(statistic_values1, 10),\n",
    "                  'artificial', 'chi2', 'train')\n",
    "save_preprocessed(artificial_data_test, artificial_label_test, indices_of_n_max(statistic_values1, 10),\n",
    "                  'artificial', 'chi2', 'test')"
   ],
   "metadata": {
    "collapsed": false
   }
  },
  {
   "cell_type": "code",
   "execution_count": null,
   "outputs": [],
   "source": [],
   "metadata": {
    "collapsed": false
   }
  },
  {
   "cell_type": "markdown",
   "source": [
    "##### Spam data\n",
    "\n",
    "The algorithm will be used to select 50, 100 and 150 features"
   ],
   "metadata": {
    "collapsed": false
   }
  },
  {
   "cell_type": "code",
   "execution_count": null,
   "outputs": [],
   "source": [
    "for key, df in spam_train_data.items():\n",
    "    statistic_values2, _ = chi2(df, spam_label)\n",
    "\n",
    "    save_preprocessed(df, spam_label, indices_of_n_max(statistic_values2, 50),\n",
    "                      'spam', 'chi2', 'train', folder_names[key])\n",
    "    save_preprocessed(spam_test_data[key], spam_label_test, indices_of_n_max(statistic_values2, 50),\n",
    "                      'spam', 'chi2', 'test', folder_names[key])\n",
    "\n",
    "    save_preprocessed(df, spam_label, indices_of_n_max(statistic_values2, 100),\n",
    "                      'spam', 'chi2', 'train', folder_names[key])\n",
    "    save_preprocessed(spam_test_data[key], spam_label_test, indices_of_n_max(statistic_values2, 100),\n",
    "                      'spam', 'chi2', 'test', folder_names[key])\n",
    "\n",
    "    save_preprocessed(df, spam_label, indices_of_n_max(statistic_values2, 150),\n",
    "                      'spam', 'chi2', 'train', folder_names[key])\n",
    "    save_preprocessed(spam_test_data[key], spam_label_test, indices_of_n_max(statistic_values2, 150),\n",
    "                      'spam', 'chi2', 'test', folder_names[key])"
   ],
   "metadata": {
    "collapsed": false
   }
  },
  {
   "cell_type": "code",
   "execution_count": null,
   "outputs": [],
   "source": [],
   "metadata": {
    "collapsed": false
   }
  },
  {
   "cell_type": "markdown",
   "source": [
    "#### Mutual Information\n",
    "\n",
    "A selected number with the highest value of the mutual information will be used"
   ],
   "metadata": {
    "collapsed": false
   }
  },
  {
   "cell_type": "code",
   "execution_count": null,
   "outputs": [],
   "source": [
    "np.random.seed(0)"
   ],
   "metadata": {
    "collapsed": false
   }
  },
  {
   "cell_type": "code",
   "execution_count": null,
   "outputs": [],
   "source": [
    "from sklearn.feature_selection import mutual_info_classif"
   ],
   "metadata": {
    "collapsed": false
   }
  },
  {
   "cell_type": "code",
   "execution_count": null,
   "outputs": [],
   "source": [
    "def indices_of_n_max(tab, n):\n",
    "    return np.argpartition(tab, -n)[-n:]"
   ],
   "metadata": {
    "collapsed": false
   }
  },
  {
   "cell_type": "markdown",
   "source": [
    "##### Artificial data\n",
    "\n",
    "The algorithm be used to select 5 and 10 best features"
   ],
   "metadata": {
    "collapsed": false
   }
  },
  {
   "cell_type": "code",
   "execution_count": null,
   "outputs": [],
   "source": [
    "mi1 = mutual_info_classif(artificial_data, artificial_label)"
   ],
   "metadata": {
    "collapsed": false
   }
  },
  {
   "cell_type": "code",
   "execution_count": null,
   "outputs": [],
   "source": [
    "save_preprocessed(artificial_data, artificial_label, indices_of_n_max(mi1, 5),\n",
    "                  'artificial', 'mutual_information', 'train', 'preprocessed_preprocessed_freq_01_MI')\n",
    "save_preprocessed(artificial_data_test, artificial_label_test, indices_of_n_max(mi1, 5),\n",
    "                  'artificial', 'mutual_information', 'test', 'preprocessed_preprocessed_freq_01_MI')"
   ],
   "metadata": {
    "collapsed": false
   }
  },
  {
   "cell_type": "code",
   "execution_count": null,
   "outputs": [],
   "source": [
    "save_preprocessed(artificial_data, artificial_label, indices_of_n_max(mi1, 10),\n",
    "                  'artificial', 'mutual_information', 'train', 'preprocessed_preprocessed_freq_01_MI')\n",
    "save_preprocessed(artificial_data_test, artificial_label_test, indices_of_n_max(mi1, 10),\n",
    "                  'artificial', 'mutual_information', 'test', 'preprocessed_preprocessed_freq_01_MI')"
   ],
   "metadata": {
    "collapsed": false
   }
  },
  {
   "cell_type": "markdown",
   "source": [
    "##### Spam data\n",
    "\n",
    "The algorithm will be used to select 50, 100 and 150 features"
   ],
   "metadata": {
    "collapsed": false
   }
  },
  {
   "cell_type": "code",
   "execution_count": null,
   "outputs": [],
   "source": [
    "for key, df in spam_train_data.items():\n",
    "    mi2 = mutual_info_classif(df, spam_label)\n",
    "\n",
    "    save_preprocessed(df, spam_label, indices_of_n_max(mi2, 50),\n",
    "                      'spam', 'mutual_information', 'train', folder_names[key])\n",
    "    save_preprocessed(spam_test_data[key], spam_label_test, indices_of_n_max(mi2, 50),\n",
    "                      'spam', 'mutual_information', 'test', folder_names[key])\n",
    "\n",
    "    save_preprocessed(df, spam_label, indices_of_n_max(mi2, 100),\n",
    "                      'spam', 'mutual_information', 'train', folder_names[key])\n",
    "    save_preprocessed(spam_test_data[key], spam_label_test, indices_of_n_max(mi2, 100),\n",
    "                      'spam', 'mutual_information', 'test', folder_names[key])\n",
    "\n",
    "    save_preprocessed(df, spam_label, indices_of_n_max(mi2, 150),\n",
    "                      'spam', 'mutual_information', 'train', folder_names[key])\n",
    "    save_preprocessed(spam_test_data[key], spam_label_test, indices_of_n_max(mi2, 150),\n",
    "                      'spam', 'mutual_information', 'test', folder_names[key])"
   ],
   "metadata": {
    "collapsed": false
   }
  },
  {
   "cell_type": "code",
   "execution_count": null,
   "outputs": [],
   "source": [],
   "metadata": {
    "collapsed": false
   }
  },
  {
   "cell_type": "code",
   "execution_count": null,
   "outputs": [],
   "source": [],
   "metadata": {
    "collapsed": false
   }
  },
  {
   "cell_type": "code",
   "execution_count": null,
   "outputs": [],
   "source": [],
   "metadata": {
    "collapsed": false
   }
  }
 ],
 "metadata": {
  "kernelspec": {
   "display_name": "Python 3",
   "language": "python",
   "name": "python3"
  },
  "language_info": {
   "codemirror_mode": {
    "name": "ipython",
    "version": 2
   },
   "file_extension": ".py",
   "mimetype": "text/x-python",
   "name": "python",
   "nbconvert_exporter": "python",
   "pygments_lexer": "ipython2",
   "version": "2.7.6"
  }
 },
 "nbformat": 4,
 "nbformat_minor": 0
}
